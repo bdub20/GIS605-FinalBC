{
  "nbformat": 4,
  "nbformat_minor": 0,
  "metadata": {
    "colab": {
      "provenance": []
    },
    "kernelspec": {
      "name": "python3",
      "display_name": "Python 3"
    },
    "language_info": {
      "name": "python"
    }
  },
  "cells": [
    {
      "cell_type": "code",
      "execution_count": 10,
      "metadata": {
        "colab": {
          "base_uri": "https://localhost:8080/"
        },
        "id": "lSNANx4qt_Un",
        "outputId": "3b589621-e54f-418c-d986-13ad641a4dde"
      },
      "outputs": [
        {
          "output_type": "stream",
          "name": "stdout",
          "text": [
            "Howdy Planet!\n",
            "North\n",
            "South\n",
            "East\n",
            "West\n"
          ]
        }
      ],
      "source": [
        "def howdy_planet():\n",
        "  print(\"Howdy Planet!\")\n",
        "\n",
        "howdy_planet()\n",
        "Directions = [\"North\", \"South\",\"East\", \"West\"]\n",
        "for direct in Directions:\n",
        "  print(direct)"
      ]
    },
    {
      "cell_type": "code",
      "source": [],
      "metadata": {
        "id": "pfqBKKXovFAV"
      },
      "execution_count": null,
      "outputs": []
    }
  ]
}